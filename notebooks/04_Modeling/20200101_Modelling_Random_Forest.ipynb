{
 "cells": [
  {
   "cell_type": "code",
   "execution_count": 2,
   "metadata": {},
   "outputs": [
    {
     "name": "stdin",
     "output_type": "stream",
     "text": [
      "Por favor adicione o diretório de trabalho? C:\\1.Portfolio\\Machine_Learning_DSA_Projects\\Projeto_1_Santander_Customers\\data\\02_processed\n"
     ]
    },
    {
     "name": "stdout",
     "output_type": "stream",
     "text": [
      "Carregamento finalizado!!!\n"
     ]
    },
    {
     "name": "stdin",
     "output_type": "stream",
     "text": [
      "Por favor adicione o diretório de trabalho? C:\\1.Portfolio\\Machine_Learning_DSA_Projects\\Projeto_1_Santander_Customers\\data\\02_processed\n"
     ]
    },
    {
     "name": "stdout",
     "output_type": "stream",
     "text": [
      "Carregamento finalizado!!!\n"
     ]
    }
   ],
   "source": [
    "import os\n",
    "import pickle\n",
    "import numpy as np\n",
    "import pandas as pd\n",
    "import warnings\n",
    "warnings.filterwarnings(\"ignore\")\n",
    "import matplotlib.pyplot as plt\n",
    "from yellowbrick.model_selection import ValidationCurve\n",
    "from sklearn.metrics import classification_report\n",
    "from sklearn.model_selection import RepeatedKFold\n",
    "from sklearn.ensemble import RandomForestClassifier\n",
    "from sklearn.model_selection import RandomizedSearchCV\n",
    "\n",
    "\n",
    "\n",
    "def load_data(file):\n",
    "    \"\"\"\n",
    "    Função para carregamento de arquivo \n",
    "    \n",
    "    \"\"\"\n",
    "    path = input('Por favor adicione o diretório de trabalho?')\n",
    "    for dirname, _, filename in os.walk(path, topdown = True):\n",
    "        for filename in filename:\n",
    "            if filename == file:\n",
    "                data = pd.read_csv(os.path.join(dirname,filename), header = None)\n",
    "            else:\n",
    "                pass\n",
    "    print(\"Carregamento finalizado!!!\")\n",
    "    return data\n",
    "\n",
    "X_treino = load_data('X_treino.csv')\n",
    "y_treino = load_data('y_treino.csv')"
   ]
  },
  {
   "cell_type": "code",
   "execution_count": 3,
   "metadata": {},
   "outputs": [],
   "source": [
    "def random_RF(X_treino,y_treino,n_iter, model_name):\n",
    "    \n",
    "    print('> Procurando os melhores parametros...')\n",
    "    n_estimators = [int(x) for x in np.linspace(start = 200, stop = 500, num = 7)]\n",
    "    max_depth = [5,15,25]\n",
    "    criterion = ['gini','entropy']\n",
    "    min_samples_split = [2, 5, 10]\n",
    "    min_samples_leaf = [1, 2, 4, 6]\n",
    "   \n",
    "    \n",
    "\n",
    "    random_grid = {'n_estimators': n_estimators,\n",
    "                   'criterion': criterion,\n",
    "                   'max_depth': max_depth,\n",
    "                   'min_samples_split': min_samples_split,\n",
    "                   'min_samples_leaf': min_samples_leaf}\n",
    "    \n",
    "\n",
    "    random_state = 2\n",
    "    rfc = RandomForestClassifier(n_jobs=-1)\n",
    "    rf_random = RandomizedSearchCV(estimator = rfc, param_distributions = random_grid, \n",
    "                                   n_iter = n_iter, cv = 3, verbose=1, random_state=random_state, \n",
    "                                   n_jobs = -1, scoring = {'roc_auc':'roc_auc'}, \n",
    "                                   refit='roc_auc')\n",
    "\n",
    "    # Fit the random search model\n",
    "    print('> Fitting Modelo...')\n",
    "    model = rf_random.fit(X_treino, y_treino)\n",
    "    filename = model_name\n",
    "    pickle.dump(model, open(filename, 'wb'))\n",
    "    \n",
    "    print('> Treinamento realizado...')\n",
    "    return model.best_estimator_, model.cv_results_, model.best_params_"
   ]
  },
  {
   "cell_type": "code",
   "execution_count": 4,
   "metadata": {},
   "outputs": [
    {
     "name": "stdout",
     "output_type": "stream",
     "text": [
      "> Procurando os melhores parametros...\n",
      "> Fitting Modelo...\n",
      "Fitting 3 folds for each of 5 candidates, totalling 15 fits\n"
     ]
    },
    {
     "name": "stderr",
     "output_type": "stream",
     "text": [
      "[Parallel(n_jobs=-1)]: Using backend LokyBackend with 4 concurrent workers.\n",
      "[Parallel(n_jobs=-1)]: Done  15 out of  15 | elapsed: 11.2min finished\n"
     ]
    },
    {
     "name": "stdout",
     "output_type": "stream",
     "text": [
      "> Treinamento realizado...\n"
     ]
    }
   ],
   "source": [
    "trained_model, results, params=random_RF(X_treino,y_treino,5, model_name='model_1401.sav')"
   ]
  },
  {
   "cell_type": "code",
   "execution_count": 5,
   "metadata": {},
   "outputs": [
    {
     "data": {
      "text/plain": [
       "{'n_estimators': 200,\n",
       " 'min_samples_split': 2,\n",
       " 'min_samples_leaf': 1,\n",
       " 'max_depth': 25,\n",
       " 'criterion': 'gini'}"
      ]
     },
     "execution_count": 5,
     "metadata": {},
     "output_type": "execute_result"
    }
   ],
   "source": [
    "params"
   ]
  },
  {
   "cell_type": "code",
   "execution_count": 6,
   "metadata": {},
   "outputs": [
    {
     "data": {
      "image/png": "[encoded data removed]",
      "text/plain": [
       "<Figure size 720x432 with 1 Axes>"
      ]
     },
     "metadata": {
      "needs_background": "light"
     },
     "output_type": "display_data"
    }
   ],
   "source": [
    "# Function\n",
    "\n",
    "def validation_curve(model, X, y, param, rang, cv):\n",
    "    \n",
    "    f, ax  = plt.subplots(figsize=(10,6))\n",
    "    viz = ValidationCurve(\n",
    "    model, param_name=param,\n",
    "    param_range=rang, cv=cv, scoring=\"roc_auc\", n_jobs=-1\n",
    "    )\n",
    "\n",
    "\n",
    "    viz.fit(X, y)\n",
    "    viz.show()\n",
    "    plt.show()\n",
    "    \n",
    "\n",
    "validation_curve(trained_model, X_treino, y_treino, param='max_depth', rang=np.linspace(0,30), cv=5)"
   ]
  },
  {
   "cell_type": "code",
   "execution_count": 8,
   "metadata": {},
   "outputs": [
    {
     "name": "stdout",
     "output_type": "stream",
     "text": [
      "> Treinando Modelo...\n"
     ]
    },
    {
     "data": {
      "text/plain": [
       "RandomForestClassifier(bootstrap=True, ccp_alpha=0.0, class_weight=None,\n",
       "                       criterion='gini', max_depth=20, max_features='auto',\n",
       "                       max_leaf_nodes=None, max_samples=None,\n",
       "                       min_impurity_decrease=0.0, min_impurity_split=None,\n",
       "                       min_samples_leaf=1, min_samples_split=2,\n",
       "                       min_weight_fraction_leaf=0.0, n_estimators=200,\n",
       "                       n_jobs=None, oob_score=False, random_state=None,\n",
       "                       verbose=0, warm_start=False)"
      ]
     },
     "execution_count": 8,
     "metadata": {},
     "output_type": "execute_result"
    }
   ],
   "source": [
    "#Treinando modelo com os parametros encontrados\n",
    "\n",
    "def fitting_model_rf(X, y, model_name, n_estimators=200 , max_depth=20 ,\n",
    "                     criterion='gini' , min_samples_split=2 ,\n",
    "                     min_samples_leaf =1):\n",
    "    \n",
    "    \n",
    "    rf = RandomForestClassifier(n_estimators=n_estimators , max_depth=max_depth ,\n",
    "                     criterion=criterion , min_samples_split=min_samples_split ,\n",
    "                     min_samples_leaf=min_samples_leaf)\n",
    "    \n",
    "    \n",
    "    # Fit do modelo\n",
    "    print('> Treinando Modelo...')\n",
    "    model = rf.fit(X, y)\n",
    "    filename = model_name\n",
    "    pickle.dump(model, open(filename, 'wb'))\n",
    "    print('>Modelo treinado...')\n",
    "    return model\n",
    "\n",
    "fitting_model_rf(X_treino,y_treino,'model_1801.sav')"
   ]
  },
  {
   "cell_type": "code",
   "execution_count": null,
   "metadata": {},
   "outputs": [],
   "source": []
  }
 ],
 "metadata": {
  "kernelspec": {
   "display_name": "Python 3",
   "language": "python",
   "name": "python3"
  },
  "language_info": {
   "codemirror_mode": {
    "name": "ipython",
    "version": 3
   },
   "file_extension": ".py",
   "mimetype": "text/x-python",
   "name": "python",
   "nbconvert_exporter": "python",
   "pygments_lexer": "ipython3",
   "version": "3.7.3"
  }
 },
 "nbformat": 4,
 "nbformat_minor": 2
}
